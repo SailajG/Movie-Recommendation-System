{
  "nbformat": 4,
  "nbformat_minor": 0,
  "metadata": {
    "colab": {
      "provenance": []
    },
    "kernelspec": {
      "name": "python3",
      "display_name": "Python 3"
    },
    "language_info": {
      "name": "python"
    }
  },
  "cells": [
    {
      "cell_type": "markdown",
      "source": [
        "**Here we will be building a movie recommendation system based collaborative filtering.**\n",
        "\n"
      ],
      "metadata": {
        "id": "U8DErLtASyOH"
      }
    },
    {
      "cell_type": "markdown",
      "source": [
        "1. Importing Libraries\n",
        "\n",
        "For this project we will be importing numpy, pandas, scikit learn, matplotlib and seaborn."
      ],
      "metadata": {
        "id": "5o2NTLkMS5Q4"
      }
    },
    {
      "cell_type": "code",
      "source": [
        "import numpy as np\n",
        "import pandas as pd\n",
        "import sklearn\n",
        "import matplotlib.pyplot as plt\n",
        "import seaborn as sns\n",
        "import warnings\n",
        "warnings.simplefilter(action='ignore', category=FutureWarning)"
      ],
      "metadata": {
        "id": "R7qLdPqaTI8l"
      },
      "execution_count": 1,
      "outputs": []
    },
    {
      "cell_type": "markdown",
      "source": [
        "2. Loading Datasets\n",
        "\n",
        "Here we will be importing rating dataset that contains ratings of movies. You can download the dataset \"ratings.csv\"."
      ],
      "metadata": {
        "id": "IZ9SmCExTNR4"
      }
    },
    {
      "cell_type": "code",
      "source": [
        "ratings = pd.read_csv(\"ratings.csv\")\n",
        "print(ratings.head())"
      ],
      "metadata": {
        "colab": {
          "base_uri": "https://localhost:8080/"
        },
        "id": "WhxFWVqWTWlu",
        "outputId": "83d0e7f6-f867-4af4-c965-dd07f507071e"
      },
      "execution_count": 2,
      "outputs": [
        {
          "output_type": "stream",
          "name": "stdout",
          "text": [
            "   userId  movieId  rating   timestamp\n",
            "0     877     4155       5  1651201566\n",
            "1     305     7661       2  1639553712\n",
            "2     381     8423       2  1610704432\n",
            "3     208     6433       1  1650223767\n",
            "4      47     7752       4  1663998365\n"
          ]
        }
      ]
    },
    {
      "cell_type": "markdown",
      "source": [
        "Now we will import movies dataset that contains movie ID, Titles and Genres based on which our model will recommend movies. You can download the dataset \"movies.csv\"."
      ],
      "metadata": {
        "id": "guQ01yxnTzEb"
      }
    },
    {
      "cell_type": "code",
      "source": [
        "movies = pd.read_csv(\"movies.csv\")\n",
        "print(movies.head())"
      ],
      "metadata": {
        "colab": {
          "base_uri": "https://localhost:8080/"
        },
        "id": "hK-LRzdvT9Mn",
        "outputId": "c6a66310-ec0a-4c0f-f721-3a361cd7a011"
      },
      "execution_count": 3,
      "outputs": [
        {
          "output_type": "stream",
          "name": "stdout",
          "text": [
            "   movieId                               title  \\\n",
            "0        1                    Toy Story (1995)   \n",
            "1        2                      Jumanji (1995)   \n",
            "2        3             Grumpier Old Men (1995)   \n",
            "3        4            Waiting to Exhale (1995)   \n",
            "4        5  Father of the Bride Part II (1995)   \n",
            "\n",
            "                                        genres  \n",
            "0  Adventure|Animation|Children|Comedy|Fantasy  \n",
            "1                   Adventure|Children|Fantasy  \n",
            "2                               Comedy|Romance  \n",
            "3                         Comedy|Drama|Romance  \n",
            "4                                       Comedy  \n"
          ]
        }
      ]
    },
    {
      "cell_type": "markdown",
      "source": [
        "3. Statistical Analysis of Ratings\n",
        "\n",
        "Now we will calculate and prints the total number of ratings, unique movies, unique users and the average number of ratings per user and per movie.It will help us in model making and making informed decision.\n",
        "\n",
        "*   **len(ratings):** calculates the total number of ratings in the ratings DataFrame.\n",
        "*   **ratings['movieId'].unique():** gets the unique movie IDs to calculate the total number of unique movies.\n",
        "*   **ratings['userId'].unique():** gets the unique user IDs to calculate the total number of unique users.\n",
        "*   **round(n_ratings/n_users, 2):** calculates the average number of ratings per user and rounds it to 2 decimal places.\n",
        "*   **round(n_ratings/n_movies, 2):** calculates the average number of ratings per movie and rounds it to 2 decimal places.\n"
      ],
      "metadata": {
        "id": "zB61t8ubUFZ5"
      }
    },
    {
      "cell_type": "code",
      "source": [
        "n_ratings = len(ratings)\n",
        "n_movies = len(ratings['movieId'].unique())\n",
        "n_users = len(ratings['userId'].unique())\n",
        "\n",
        "print(f\"Number of ratings: {n_ratings}\")\n",
        "print(f\"Number of unique movieId's: {n_movies}\")\n",
        "print(f\"Number of unique users: {n_users}\")\n",
        "print(f\"Average ratings per user: {round(n_ratings/n_users, 2)}\")\n",
        "print(f\"Average ratings per movie: {round(n_ratings/n_movies, 2)}\")"
      ],
      "metadata": {
        "colab": {
          "base_uri": "https://localhost:8080/"
        },
        "id": "4ND8dSIbUrfs",
        "outputId": "be58dc4f-62fe-4e12-c1d8-9693e97de456"
      },
      "execution_count": 4,
      "outputs": [
        {
          "output_type": "stream",
          "name": "stdout",
          "text": [
            "Number of ratings: 100836\n",
            "Number of unique movieId's: 9742\n",
            "Number of unique users: 999\n",
            "Average ratings per user: 100.94\n",
            "Average ratings per movie: 10.35\n"
          ]
        }
      ]
    },
    {
      "cell_type": "markdown",
      "source": [
        "4. User Rating Frequency\n",
        "\n",
        "Now we will block groups the ratings dataset by user ID to calculate the number of ratings each user has made and then prints the first few rows of this user rating frequency data.\n",
        "\n",
        "*   **ratings[['userId', 'movieId']].groupby('userId').count():** groups the ratings by userId and counts the number of movies each user has rated.\n",
        "\n"
      ],
      "metadata": {
        "id": "2Ii29aP3UxLu"
      }
    },
    {
      "cell_type": "code",
      "source": [
        "user_freq = ratings[['userId', 'movieId']].groupby(\n",
        "    'userId').count().reset_index()\n",
        "user_freq.columns = ['userId', 'n_ratings']\n",
        "print(user_freq.head())"
      ],
      "metadata": {
        "colab": {
          "base_uri": "https://localhost:8080/"
        },
        "id": "jIs0vltXVCB4",
        "outputId": "420bd34d-6545-40c2-c561-758920dc24c5"
      },
      "execution_count": 5,
      "outputs": [
        {
          "output_type": "stream",
          "name": "stdout",
          "text": [
            "   userId  n_ratings\n",
            "0       1        120\n",
            "1       2        105\n",
            "2       3         89\n",
            "3       4        100\n",
            "4       5        107\n"
          ]
        }
      ]
    },
    {
      "cell_type": "markdown",
      "source": [
        "5. Movie Rating Analysis\n",
        "\n",
        "This block analyzes the average ratings of movies identifies the highest and lowest rated movies and displays information about those movies from the movies DataFrame.\n",
        "\n",
        "*   **ratings.groupby('movieId')[['rating']].mean():** groups the ratings by movieId and calculates the mean rating for each movie.\n",
        "*   **mean_rating['rating'].idxmin():** finds the movie ID with the lowest average rating.\n",
        "*   **mean_rating['rating'].idxmax():** finds the movie ID with the highest average rating.\n",
        "*   **movies.loc[movies['movieId'] == lowest_rated]:** filters the movies DataFrame to display information about the movie with the lowest rating.\n",
        "*   **movies.loc[movies['movieId'] == highest_rated]:** filters the movies DataFrame to display information about the movie with the highest rating.\n"
      ],
      "metadata": {
        "id": "Jc66hiAOVG0H"
      }
    },
    {
      "cell_type": "code",
      "source": [
        "mean_rating = ratings.groupby('movieId')[['rating']].mean()\n",
        "lowest_rated = mean_rating['rating'].idxmin()\n",
        "movies.loc[movies['movieId'] == lowest_rated]\n",
        "highest_rated = mean_rating['rating'].idxmax()\n",
        "movies.loc[movies['movieId'] == highest_rated]\n",
        "ratings[ratings['movieId']==highest_rated]\n",
        "ratings[ratings['movieId']==lowest_rated]\n",
        "\n",
        "movie_stats = ratings.groupby('movieId')[['rating']].agg(['count', 'mean'])\n",
        "movie_stats.columns = movie_stats.columns.droplevel()"
      ],
      "metadata": {
        "id": "vj9bZ3khVkrW"
      },
      "execution_count": 6,
      "outputs": []
    },
    {
      "cell_type": "markdown",
      "source": [
        "6. User-Item Matrix Creation\n",
        "\n",
        "This block creates a sparse user-item matrix using csr_matrix from scipy. It also generates mappings between user and movie IDs and their corresponding indices for use in the matrix.\n",
        "\n",
        "*   **csr_matrix:** creates a sparse matrix (Compressed Sparse Row) from the user-item ratings data to save memory.\n",
        "*   **user_mapper and movie_mapper:** create dictionaries that map user IDs and movie IDs to indices in the sparse matrix.\n",
        "*   **user_inv_mapper and movie_inv_mapper:** create reverse dictionaries that map matrix indices back to user IDs and movie IDs.\n",
        "*   **user_index and movie_index:** create lists of indices for users and movies from the ratings DataFrame.\n",
        "*   **X = csr_matrix(...):** constructs the sparse user-item matrix X with the given user and movie indices and ratings.\n"
      ],
      "metadata": {
        "id": "XCYPfM7_VoZI"
      }
    },
    {
      "cell_type": "code",
      "source": [
        "from scipy.sparse import csr_matrix\n",
        "\n",
        "def create_matrix(df):\n",
        "\n",
        "    N = len(df['userId'].unique())\n",
        "    M = len(df['movieId'].unique())\n",
        "\n",
        "    user_mapper = dict(zip(np.unique(df[\"userId\"]), list(range(N))))\n",
        "    movie_mapper = dict(zip(np.unique(df[\"movieId\"]), list(range(M))))\n",
        "\n",
        "    user_inv_mapper = dict(zip(list(range(N)), np.unique(df[\"userId\"])))\n",
        "    movie_inv_mapper = dict(zip(list(range(M)), np.unique(df[\"movieId\"])))\n",
        "\n",
        "    user_index = [user_mapper[i] for i in df['userId']]\n",
        "    movie_index = [movie_mapper[i] for i in df['movieId']]\n",
        "\n",
        "    X = csr_matrix((df[\"rating\"], (movie_index, user_index)), shape=(M, N))\n",
        "\n",
        "    return X, user_mapper, movie_mapper, user_inv_mapper, movie_inv_mapper\n",
        "\n",
        "X, user_mapper, movie_mapper, user_inv_mapper, movie_inv_mapper = create_matrix(ratings)"
      ],
      "metadata": {
        "id": "7-H28jZCWF0f"
      },
      "execution_count": 7,
      "outputs": []
    },
    {
      "cell_type": "markdown",
      "source": [
        "7. Movie Similarity Analysis\n",
        "\n",
        "Here we will use k-nearest neighbors algorithm to find similar movies based on the cosine similarity metric. It calculates the KNN for the given movie ID and returns a list of similar movie IDs.\n",
        "\n",
        "*   **kNN.fit(X):** fits the k-NN model to the user-item matrix X.\n",
        "*   **kNN.kneighbors(movie_vec, return_distance=show_distance):** finds the k-nearest neighbors for the given movie using the k-NN algorithm.\n",
        "*   **neighbour_ids.pop(0):** removes the movie itself from the list of similar movies.\n"
      ],
      "metadata": {
        "id": "pz99rxXiWJpB"
      }
    },
    {
      "cell_type": "code",
      "source": [
        "from sklearn.neighbors import NearestNeighbors\n",
        "\n",
        "def find_similar_movies(movie_id, X, k, metric='cosine', show_distance=False):\n",
        "    neighbour_ids = []\n",
        "\n",
        "    if movie_id not in movie_mapper:\n",
        "        print(f\"Movie ID {movie_id} not found in movie_mapper!\")\n",
        "        return []\n",
        "\n",
        "    movie_ind = movie_mapper[movie_id]\n",
        "    movie_vec = X[movie_ind]\n",
        "    k += 1\n",
        "    kNN = NearestNeighbors(n_neighbors=k, algorithm=\"brute\", metric=metric)\n",
        "    kNN.fit(X)\n",
        "    movie_vec = movie_vec.reshape(1, -1)\n",
        "    neighbour = kNN.kneighbors(movie_vec, return_distance=show_distance)\n",
        "\n",
        "    for i in range(0, k):\n",
        "        n = neighbour.item(i)\n",
        "        neighbour_ids.append(movie_inv_mapper[n])\n",
        "\n",
        "    neighbour_ids.pop(0)\n",
        "    return neighbour_ids"
      ],
      "metadata": {
        "id": "k0hfWjUUWgiX"
      },
      "execution_count": 8,
      "outputs": []
    },
    {
      "cell_type": "markdown",
      "source": [
        "8. Movie Recommendation with respect to Users Preference\n",
        "\n",
        "*   This function recommends movies based on a user’s highest-rated movie. It filters the ratings dataset to find the movie with the highest rating for the given user.\n",
        "*   It then uses the find_similar_movies function to find movies similar to the highest-rated movie.\n",
        "*   The movie titles are printed as recommendations and any movies that aren't found in the dataset are skipped.\n"
      ],
      "metadata": {
        "id": "RMBG0ypYWoc8"
      }
    },
    {
      "cell_type": "code",
      "source": [
        "def recommend_movies_for_user(user_id, X, user_mapper, movie_mapper, movie_inv_mapper, k=10):\n",
        "    df1 = ratings[ratings['userId'] == user_id]\n",
        "\n",
        "    movie_id = df1[df1['rating'] == max(df1['rating'])]['movieId'].iloc[0]\n",
        "\n",
        "    movie_titles = dict(zip(movies['movieId'], movies['title']))\n",
        "\n",
        "    similar_ids = find_similar_movies(movie_id, X, k)\n",
        "\n",
        "    print(f\"Since you watched {movie_titles[movie_id]}, you might also like:\")\n",
        "\n",
        "    for i in similar_ids:\n",
        "        if i in movie_titles:\n",
        "            print(movie_titles[i])"
      ],
      "metadata": {
        "id": "hjSBveAcW4VG"
      },
      "execution_count": 9,
      "outputs": []
    },
    {
      "cell_type": "markdown",
      "source": [
        "9. Recommending movies\n",
        "\n",
        "Here we are testing our model on user id= 150 and will see what models recommend based on user activity."
      ],
      "metadata": {
        "id": "O56-5ep_W8l-"
      }
    },
    {
      "cell_type": "code",
      "source": [
        "user_id = 150\n",
        "recommend_movies_for_user(user_id, X, user_mapper, movie_mapper, movie_inv_mapper, k=10)"
      ],
      "metadata": {
        "colab": {
          "base_uri": "https://localhost:8080/"
        },
        "id": "M3Ic2Xd0XBHS",
        "outputId": "5dc7e461-3fa0-4b5f-ef53-deaeec226f8a"
      },
      "execution_count": 10,
      "outputs": [
        {
          "output_type": "stream",
          "name": "stdout",
          "text": [
            "Since you watched Miller's Crossing (1990), you might also like:\n",
            "Flawless (1999)\n",
            "Lilya 4-Ever (Lilja 4-ever) (2002)\n",
            "Bells of St. Mary's, The (1945)\n",
            "Dark City (1998)\n",
            "Cradle 2 the Grave (2003)\n",
            "Japanese Story (2003)\n"
          ]
        }
      ]
    },
    {
      "cell_type": "markdown",
      "source": [
        "We can see that our model is working fine and making predictions based on other user behaviors using KNN."
      ],
      "metadata": {
        "id": "KU7LbambXFCH"
      }
    }
  ]
}